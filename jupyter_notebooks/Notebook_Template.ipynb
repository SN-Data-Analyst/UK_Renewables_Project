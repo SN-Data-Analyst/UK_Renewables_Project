{
  "cells": [
    {
      "cell_type": "markdown",
      "metadata": {
        "id": "0aStgWSO0E0E"
      },
      "source": [
        "# Data Import and Cleaning"
      ]
    },
    {
      "cell_type": "markdown",
      "metadata": {
        "id": "1eLEkw5O0ECa"
      },
      "source": [
        "## Objectives\n",
        "\n",
        "* Write your notebook objective here, for example, \"Fetch data from Kaggle and save as raw data\", or \"engineer features for modelling\"\n",
        "\n",
        "## Inputs\n",
        "\n",
        "* Write down which data or information you need to run the notebook \n",
        "\n",
        "## Outputs\n",
        "\n",
        "* Write here which files, code or artefacts you generate by the end of the notebook \n",
        "\n",
        "## Additional Comments\n",
        "\n",
        "* If you have any additional comments that don't fit in the previous bullets, please state them here. \n",
        "\n"
      ]
    },
    {
      "cell_type": "markdown",
      "metadata": {
        "id": "9uWZXH9LwoQg"
      },
      "source": [
        "---"
      ]
    },
    {
      "cell_type": "markdown",
      "metadata": {
        "id": "cqP-UeN-z3i2"
      },
      "source": [
        "# Change working directory"
      ]
    },
    {
      "cell_type": "markdown",
      "metadata": {},
      "source": [
        "* We are assuming you will store the notebooks in a subfolder, therefore when running the notebook in the editor, you will need to change the working directory"
      ]
    },
    {
      "cell_type": "markdown",
      "metadata": {
        "id": "aOGIGS-uz3i2"
      },
      "source": [
        "We need to change the working directory from its current folder to its parent folder\n",
        "* We access the current directory with os.getcwd()"
      ]
    },
    {
      "cell_type": "code",
      "execution_count": 1,
      "metadata": {
        "id": "wZfF_j-Bz3i4",
        "outputId": "66943449-1436-4c3d-85c7-b85f9f78349b"
      },
      "outputs": [
        {
          "data": {
            "text/plain": [
              "'c:\\\\Users\\\\sayed\\\\OneDrive\\\\Documents\\\\Code institute\\\\UK_Renewables_Project\\\\jupyter_notebooks'"
            ]
          },
          "execution_count": 1,
          "metadata": {},
          "output_type": "execute_result"
        }
      ],
      "source": [
        "import os\n",
        "current_dir = os.getcwd()\n",
        "current_dir"
      ]
    },
    {
      "cell_type": "markdown",
      "metadata": {
        "id": "9MWW8E7lz3i7"
      },
      "source": [
        "We want to make the parent of the current directory the new current directory\n",
        "* os.path.dirname() gets the parent directory\n",
        "* os.chir() defines the new current directory"
      ]
    },
    {
      "cell_type": "code",
      "execution_count": 2,
      "metadata": {
        "id": "TwHsQRWjz3i9",
        "outputId": "86849db3-cd2f-4cc5-ebb8-2d0caafa1a2c"
      },
      "outputs": [
        {
          "name": "stdout",
          "output_type": "stream",
          "text": [
            "You set a new current directory\n"
          ]
        }
      ],
      "source": [
        "os.chdir(os.path.dirname(current_dir))\n",
        "print(\"You set a new current directory\")"
      ]
    },
    {
      "cell_type": "markdown",
      "metadata": {
        "id": "M_xPk_Ijz3i-"
      },
      "source": [
        "Confirm the new current directory"
      ]
    },
    {
      "cell_type": "code",
      "execution_count": 3,
      "metadata": {
        "id": "vz3S-_kjz3jA",
        "outputId": "00b79ae4-75d0-4a96-d193-ac9ef9847ea2"
      },
      "outputs": [
        {
          "data": {
            "text/plain": [
              "'c:\\\\Users\\\\sayed\\\\OneDrive\\\\Documents\\\\Code institute\\\\UK_Renewables_Project'"
            ]
          },
          "execution_count": 3,
          "metadata": {},
          "output_type": "execute_result"
        }
      ],
      "source": [
        "current_dir = os.getcwd()\n",
        "current_dir"
      ]
    },
    {
      "cell_type": "markdown",
      "metadata": {
        "id": "-mavJ8DibrcQ"
      },
      "source": [
        "# Section 1"
      ]
    },
    {
      "cell_type": "markdown",
      "metadata": {},
      "source": [
        "Section 1 content"
      ]
    },
    {
      "cell_type": "code",
      "execution_count": 4,
      "metadata": {},
      "outputs": [],
      "source": [
        "import pandas as pd\n",
        "import numpy as np"
      ]
    },
    {
      "cell_type": "code",
      "execution_count": 5,
      "metadata": {},
      "outputs": [
        {
          "data": {
            "application/vnd.microsoft.datawrangler.viewer.v0+json": {
              "columns": [
                {
                  "name": "index",
                  "rawType": "int64",
                  "type": "integer"
                },
                {
                  "name": "Year",
                  "rawType": "int64",
                  "type": "integer"
                },
                {
                  "name": "Fuel",
                  "rawType": "object",
                  "type": "string"
                },
                {
                  "name": "Flow_type",
                  "rawType": "object",
                  "type": "string"
                },
                {
                  "name": "Primary_group",
                  "rawType": "object",
                  "type": "string"
                },
                {
                  "name": "Subgroup",
                  "rawType": "object",
                  "type": "unknown"
                },
                {
                  "name": "Category",
                  "rawType": "object",
                  "type": "unknown"
                },
                {
                  "name": "Aggregate_type",
                  "rawType": "object",
                  "type": "string"
                },
                {
                  "name": "Unit",
                  "rawType": "object",
                  "type": "string"
                },
                {
                  "name": "Energy",
                  "rawType": "float64",
                  "type": "float"
                },
                {
                  "name": "Row",
                  "rawType": "int64",
                  "type": "integer"
                }
              ],
              "conversionMethod": "pd.DataFrame",
              "ref": "c769c449-9296-40ac-b4d0-6eadbd72f117",
              "rows": [
                [
                  "0",
                  "2023",
                  "Bioenergy & waste",
                  "Production",
                  "Supply",
                  null,
                  null,
                  "value",
                  "ktoe",
                  "13730.03",
                  "5"
                ],
                [
                  "1",
                  "2023",
                  "Bioenergy & waste",
                  "Imports",
                  "Supply",
                  null,
                  null,
                  "value",
                  "ktoe",
                  "5327.35",
                  "6"
                ],
                [
                  "2",
                  "2023",
                  "Bioenergy & waste",
                  "Exports",
                  "Supply",
                  null,
                  null,
                  "value",
                  "ktoe",
                  "-640.61",
                  "7"
                ],
                [
                  "3",
                  "2023",
                  "Bioenergy & waste",
                  "Marine bunkers",
                  "Supply",
                  null,
                  null,
                  "value",
                  "ktoe",
                  "0.0",
                  "8"
                ],
                [
                  "4",
                  "2023",
                  "Bioenergy & waste",
                  "Stock change",
                  "Supply",
                  null,
                  null,
                  "value",
                  "ktoe",
                  "-10.96",
                  "9"
                ]
              ],
              "shape": {
                "columns": 10,
                "rows": 5
              }
            },
            "text/html": [
              "<div>\n",
              "<style scoped>\n",
              "    .dataframe tbody tr th:only-of-type {\n",
              "        vertical-align: middle;\n",
              "    }\n",
              "\n",
              "    .dataframe tbody tr th {\n",
              "        vertical-align: top;\n",
              "    }\n",
              "\n",
              "    .dataframe thead th {\n",
              "        text-align: right;\n",
              "    }\n",
              "</style>\n",
              "<table border=\"1\" class=\"dataframe\">\n",
              "  <thead>\n",
              "    <tr style=\"text-align: right;\">\n",
              "      <th></th>\n",
              "      <th>Year</th>\n",
              "      <th>Fuel</th>\n",
              "      <th>Flow_type</th>\n",
              "      <th>Primary_group</th>\n",
              "      <th>Subgroup</th>\n",
              "      <th>Category</th>\n",
              "      <th>Aggregate_type</th>\n",
              "      <th>Unit</th>\n",
              "      <th>Energy</th>\n",
              "      <th>Row</th>\n",
              "    </tr>\n",
              "  </thead>\n",
              "  <tbody>\n",
              "    <tr>\n",
              "      <th>0</th>\n",
              "      <td>2023</td>\n",
              "      <td>Bioenergy &amp; waste</td>\n",
              "      <td>Production</td>\n",
              "      <td>Supply</td>\n",
              "      <td>NaN</td>\n",
              "      <td>NaN</td>\n",
              "      <td>value</td>\n",
              "      <td>ktoe</td>\n",
              "      <td>13730.03</td>\n",
              "      <td>5</td>\n",
              "    </tr>\n",
              "    <tr>\n",
              "      <th>1</th>\n",
              "      <td>2023</td>\n",
              "      <td>Bioenergy &amp; waste</td>\n",
              "      <td>Imports</td>\n",
              "      <td>Supply</td>\n",
              "      <td>NaN</td>\n",
              "      <td>NaN</td>\n",
              "      <td>value</td>\n",
              "      <td>ktoe</td>\n",
              "      <td>5327.35</td>\n",
              "      <td>6</td>\n",
              "    </tr>\n",
              "    <tr>\n",
              "      <th>2</th>\n",
              "      <td>2023</td>\n",
              "      <td>Bioenergy &amp; waste</td>\n",
              "      <td>Exports</td>\n",
              "      <td>Supply</td>\n",
              "      <td>NaN</td>\n",
              "      <td>NaN</td>\n",
              "      <td>value</td>\n",
              "      <td>ktoe</td>\n",
              "      <td>-640.61</td>\n",
              "      <td>7</td>\n",
              "    </tr>\n",
              "    <tr>\n",
              "      <th>3</th>\n",
              "      <td>2023</td>\n",
              "      <td>Bioenergy &amp; waste</td>\n",
              "      <td>Marine bunkers</td>\n",
              "      <td>Supply</td>\n",
              "      <td>NaN</td>\n",
              "      <td>NaN</td>\n",
              "      <td>value</td>\n",
              "      <td>ktoe</td>\n",
              "      <td>0.00</td>\n",
              "      <td>8</td>\n",
              "    </tr>\n",
              "    <tr>\n",
              "      <th>4</th>\n",
              "      <td>2023</td>\n",
              "      <td>Bioenergy &amp; waste</td>\n",
              "      <td>Stock change</td>\n",
              "      <td>Supply</td>\n",
              "      <td>NaN</td>\n",
              "      <td>NaN</td>\n",
              "      <td>value</td>\n",
              "      <td>ktoe</td>\n",
              "      <td>-10.96</td>\n",
              "      <td>9</td>\n",
              "    </tr>\n",
              "  </tbody>\n",
              "</table>\n",
              "</div>"
            ],
            "text/plain": [
              "   Year               Fuel       Flow_type Primary_group Subgroup Category  \\\n",
              "0  2023  Bioenergy & waste      Production        Supply      NaN      NaN   \n",
              "1  2023  Bioenergy & waste         Imports        Supply      NaN      NaN   \n",
              "2  2023  Bioenergy & waste         Exports        Supply      NaN      NaN   \n",
              "3  2023  Bioenergy & waste  Marine bunkers        Supply      NaN      NaN   \n",
              "4  2023  Bioenergy & waste    Stock change        Supply      NaN      NaN   \n",
              "\n",
              "  Aggregate_type  Unit    Energy  Row  \n",
              "0          value  ktoe  13730.03    5  \n",
              "1          value  ktoe   5327.35    6  \n",
              "2          value  ktoe   -640.61    7  \n",
              "3          value  ktoe      0.00    8  \n",
              "4          value  ktoe    -10.96    9  "
            ]
          },
          "execution_count": 5,
          "metadata": {},
          "output_type": "execute_result"
        }
      ],
      "source": [
        "df = pd.read_csv(\"Raw_Data/DUKES 1.1 flat.csv\")\n",
        "df.head(5)"
      ]
    },
    {
      "cell_type": "code",
      "execution_count": 6,
      "metadata": {},
      "outputs": [
        {
          "name": "stdout",
          "output_type": "stream",
          "text": [
            "<class 'pandas.core.frame.DataFrame'>\n",
            "RangeIndex: 15022 entries, 0 to 15021\n",
            "Data columns (total 10 columns):\n",
            " #   Column          Non-Null Count  Dtype  \n",
            "---  ------          --------------  -----  \n",
            " 0   Year            15022 non-null  int64  \n",
            " 1   Fuel            15022 non-null  object \n",
            " 2   Flow_type       15022 non-null  object \n",
            " 3   Primary_group   15022 non-null  object \n",
            " 4   Subgroup        12432 non-null  object \n",
            " 5   Category        7511 non-null   object \n",
            " 6   Aggregate_type  15022 non-null  object \n",
            " 7   Unit            15022 non-null  object \n",
            " 8   Energy          15022 non-null  float64\n",
            " 9   Row             15022 non-null  int64  \n",
            "dtypes: float64(1), int64(2), object(7)\n",
            "memory usage: 1.1+ MB\n"
          ]
        }
      ],
      "source": [
        "df.info()"
      ]
    },
    {
      "cell_type": "code",
      "execution_count": 7,
      "metadata": {},
      "outputs": [
        {
          "name": "stdout",
          "output_type": "stream",
          "text": [
            "Unique values in Year: [2023 2022 2021 2020 2019 2018 2017 2016 2015 2014 2013 2012 2011 2010\n",
            " 2009 2008 2007 2006 2005 2004 2003 2002 2001 2000 1999 1998]\n",
            "Unique values in Fuel: ['Bioenergy & waste' 'Coal' 'Electricity' 'Heat sold' 'Manufactured fuel'\n",
            " 'Natural gas' 'Petroleum products' 'Primary electricity' 'Primary oils'\n",
            " 'Total']\n",
            "Unique values in Flow_type: ['Production' 'Imports' 'Exports' 'Marine bunkers' 'Stock change'\n",
            " 'Total supply' 'Statistical difference' 'Total demand' 'Transfers'\n",
            " 'Transformation' 'Electricity generation' 'Major power producers'\n",
            " 'Autogenerators' 'Heat generation' 'Petroleum refineries'\n",
            " 'Coke manufacture' 'Blast furnaces' 'Patent fuel manufacture' 'Other'\n",
            " 'Energy industry use' 'Oil and gas extraction' 'Coal extraction'\n",
            " 'Pumped storage' 'Losses' 'Final consumption' 'Industry' 'Unclassified'\n",
            " 'Iron and steel' 'Non-ferrous metals' 'Mineral products' 'Chemicals'\n",
            " 'Mechanical engineering etc' 'Electrical engineering etc' 'Vehicles'\n",
            " 'Food, beverages etc' 'Textiles, leather etc' 'Paper, printing etc'\n",
            " 'Other industries' 'Construction' 'Transport' 'Air' 'Rail' 'Road'\n",
            " 'National navigation' 'Pipelines' 'Domestic' 'Public administration'\n",
            " 'Commercial' 'Agriculture' 'Miscellaneous' 'Non energy use']\n",
            "Unique values in Primary_group: ['Supply' 'Statistical difference' 'Demand']\n",
            "Unique values in Subgroup: [nan 'Transformation' 'Energy industry use' 'Final consumption']\n",
            "Unique values in Category: [nan 'Electricity generation' 'Industry' 'Transport' 'Other final users']\n",
            "Unique values in Aggregate_type: ['value' 'sum']\n",
            "Unique values in Unit: ['ktoe']\n",
            "Unique values in Energy: [13730.03  5327.35  -640.61 ...  1359.25  2313.48 12737.2 ]\n",
            "Unique values in Row: [ 5  6  7  8  9 10 11 12 13 14 15 16 17 18 19 20 21 22 23 24 25 26 27 28\n",
            " 29 30 31 32 33 34 35 36 37 38 39 40 41 42 43 44 45 46 47 48 49 50 51 52\n",
            " 53 54 55 56 57 58 59 60 61 62]\n"
          ]
        }
      ],
      "source": [
        "# print unique values in all columns\n",
        "for col in df.columns:\n",
        "    print(f\"Unique values in {col}: {df[col].unique()}\")"
      ]
    },
    {
      "cell_type": "code",
      "execution_count": 8,
      "metadata": {},
      "outputs": [
        {
          "name": "stdout",
          "output_type": "stream",
          "text": [
            "['value']\n"
          ]
        }
      ],
      "source": [
        "df = df[df['Aggregate_type'] != 'sum']\n",
        "print(df['Aggregate_type'].unique())"
      ]
    },
    {
      "cell_type": "code",
      "execution_count": 9,
      "metadata": {},
      "outputs": [
        {
          "name": "stdout",
          "output_type": "stream",
          "text": [
            "['Bioenergy & waste' 'Coal' 'Electricity' 'Heat sold' 'Manufactured fuel'\n",
            " 'Natural gas' 'Petroleum products' 'Primary electricity' 'Primary oils']\n"
          ]
        }
      ],
      "source": [
        "df = df[df['Fuel'] != 'Total']\n",
        "print(df['Fuel'].unique())"
      ]
    },
    {
      "cell_type": "code",
      "execution_count": 10,
      "metadata": {},
      "outputs": [
        {
          "name": "stdout",
          "output_type": "stream",
          "text": [
            "['Production' 'Imports' 'Exports' 'Marine bunkers' 'Stock change'\n",
            " 'Statistical difference' 'Transfers' 'Major power producers'\n",
            " 'Autogenerators' 'Heat generation' 'Petroleum refineries'\n",
            " 'Coke manufacture' 'Blast furnaces' 'Patent fuel manufacture' 'Other'\n",
            " 'Electricity generation' 'Oil and gas extraction' 'Coal extraction'\n",
            " 'Pumped storage' 'Losses' 'Unclassified' 'Iron and steel'\n",
            " 'Non-ferrous metals' 'Mineral products' 'Chemicals'\n",
            " 'Mechanical engineering etc' 'Electrical engineering etc' 'Vehicles'\n",
            " 'Food, beverages etc' 'Textiles, leather etc' 'Paper, printing etc'\n",
            " 'Other industries' 'Construction' 'Air' 'Rail' 'Road'\n",
            " 'National navigation' 'Pipelines' 'Domestic' 'Public administration'\n",
            " 'Commercial' 'Agriculture' 'Miscellaneous' 'Non energy use']\n"
          ]
        }
      ],
      "source": [
        "df = df[~df['Flow_type'].isin(['Total supply', 'Total demand'])]\n",
        "print(df['Flow_type'].unique())"
      ]
    },
    {
      "cell_type": "code",
      "execution_count": 11,
      "metadata": {},
      "outputs": [
        {
          "data": {
            "text/plain": [
              "Index(['Year', 'Fuel', 'Flow_type', 'Primary_group', 'Subgroup', 'Category',\n",
              "       'Unit', 'Energy'],\n",
              "      dtype='object')"
            ]
          },
          "execution_count": 11,
          "metadata": {},
          "output_type": "execute_result"
        }
      ],
      "source": [
        "df = df.drop(columns=['Aggregate_type', 'Row'])\n",
        "df.columns\n"
      ]
    },
    {
      "cell_type": "code",
      "execution_count": 12,
      "metadata": {},
      "outputs": [
        {
          "name": "stdout",
          "output_type": "stream",
          "text": [
            "Number of zero values in 'Energy': 6676\n"
          ]
        }
      ],
      "source": [
        "# Count zero values in the 'Energy' column\n",
        "zero_count = (df['Energy'] == 0).sum()\n",
        "print(f\"Number of zero values in 'Energy': {zero_count}\")"
      ]
    },
    {
      "cell_type": "code",
      "execution_count": 13,
      "metadata": {},
      "outputs": [
        {
          "name": "stdout",
          "output_type": "stream",
          "text": [
            "Number of very small values close to zero: 0\n"
          ]
        }
      ],
      "source": [
        "# Check for very small values close to zero\n",
        "small_values = df[(df['Energy'] > 0) & (df['Energy'] < 1e-6)]\n",
        "print(f\"Number of very small values close to zero: {len(small_values)}\")"
      ]
    },
    {
      "cell_type": "code",
      "execution_count": 14,
      "metadata": {},
      "outputs": [],
      "source": [
        "# Turn negative energy values under the 'Demand' category into positive values\n",
        "df.loc[(df['Primary_group'] == 'Demand') & (df['Energy'] < 0), 'Energy'] = df['Energy'].abs()"
      ]
    },
    {
      "cell_type": "code",
      "execution_count": 15,
      "metadata": {},
      "outputs": [
        {
          "data": {
            "application/vnd.microsoft.datawrangler.viewer.v0+json": {
              "columns": [
                {
                  "name": "index",
                  "rawType": "int64",
                  "type": "integer"
                },
                {
                  "name": "Year",
                  "rawType": "int64",
                  "type": "integer"
                },
                {
                  "name": "Fuel",
                  "rawType": "object",
                  "type": "string"
                },
                {
                  "name": "Flow_type",
                  "rawType": "object",
                  "type": "string"
                },
                {
                  "name": "Primary_group",
                  "rawType": "object",
                  "type": "string"
                },
                {
                  "name": "Subgroup",
                  "rawType": "object",
                  "type": "unknown"
                },
                {
                  "name": "Category",
                  "rawType": "object",
                  "type": "unknown"
                },
                {
                  "name": "Unit",
                  "rawType": "object",
                  "type": "string"
                },
                {
                  "name": "Energy",
                  "rawType": "float64",
                  "type": "float"
                }
              ],
              "conversionMethod": "pd.DataFrame",
              "ref": "1d1ce83b-85db-4154-8aff-21a612f7330e",
              "rows": [
                [
                  "0",
                  "2023",
                  "Bioenergy & waste",
                  "Production",
                  "Supply",
                  null,
                  null,
                  "ktoe",
                  "13730.03"
                ],
                [
                  "1",
                  "2023",
                  "Bioenergy & waste",
                  "Imports",
                  "Supply",
                  null,
                  null,
                  "ktoe",
                  "5327.35"
                ],
                [
                  "2",
                  "2023",
                  "Bioenergy & waste",
                  "Exports",
                  "Supply",
                  null,
                  null,
                  "ktoe",
                  "-640.61"
                ],
                [
                  "3",
                  "2023",
                  "Bioenergy & waste",
                  "Marine bunkers",
                  "Supply",
                  null,
                  null,
                  "ktoe",
                  "0.0"
                ],
                [
                  "4",
                  "2023",
                  "Bioenergy & waste",
                  "Stock change",
                  "Supply",
                  null,
                  null,
                  "ktoe",
                  "-10.96"
                ],
                [
                  "6",
                  "2023",
                  "Bioenergy & waste",
                  "Statistical difference",
                  "Statistical difference",
                  null,
                  null,
                  "ktoe",
                  "0.0"
                ],
                [
                  "8",
                  "2023",
                  "Bioenergy & waste",
                  "Transfers",
                  "Demand",
                  null,
                  null,
                  "ktoe",
                  "647.14"
                ],
                [
                  "11",
                  "2023",
                  "Bioenergy & waste",
                  "Major power producers",
                  "Demand",
                  "Transformation",
                  "Electricity generation",
                  "ktoe",
                  "4441.15"
                ],
                [
                  "12",
                  "2023",
                  "Bioenergy & waste",
                  "Autogenerators",
                  "Demand",
                  "Transformation",
                  "Electricity generation",
                  "ktoe",
                  "5877.4"
                ],
                [
                  "13",
                  "2023",
                  "Bioenergy & waste",
                  "Heat generation",
                  "Demand",
                  "Transformation",
                  null,
                  "ktoe",
                  "243.82"
                ],
                [
                  "14",
                  "2023",
                  "Bioenergy & waste",
                  "Petroleum refineries",
                  "Demand",
                  "Transformation",
                  null,
                  "ktoe",
                  "0.0"
                ],
                [
                  "15",
                  "2023",
                  "Bioenergy & waste",
                  "Coke manufacture",
                  "Demand",
                  "Transformation",
                  null,
                  "ktoe",
                  "0.0"
                ],
                [
                  "16",
                  "2023",
                  "Bioenergy & waste",
                  "Blast furnaces",
                  "Demand",
                  "Transformation",
                  null,
                  "ktoe",
                  "0.0"
                ],
                [
                  "17",
                  "2023",
                  "Bioenergy & waste",
                  "Patent fuel manufacture",
                  "Demand",
                  "Transformation",
                  null,
                  "ktoe",
                  "0.0"
                ],
                [
                  "18",
                  "2023",
                  "Bioenergy & waste",
                  "Other",
                  "Demand",
                  "Transformation",
                  null,
                  "ktoe",
                  "0.0"
                ],
                [
                  "20",
                  "2023",
                  "Bioenergy & waste",
                  "Electricity generation",
                  "Demand",
                  "Energy industry use",
                  null,
                  "ktoe",
                  "0.0"
                ],
                [
                  "21",
                  "2023",
                  "Bioenergy & waste",
                  "Oil and gas extraction",
                  "Demand",
                  "Energy industry use",
                  null,
                  "ktoe",
                  "0.0"
                ],
                [
                  "22",
                  "2023",
                  "Bioenergy & waste",
                  "Petroleum refineries",
                  "Demand",
                  "Energy industry use",
                  null,
                  "ktoe",
                  "0.0"
                ],
                [
                  "23",
                  "2023",
                  "Bioenergy & waste",
                  "Coal extraction",
                  "Demand",
                  "Energy industry use",
                  null,
                  "ktoe",
                  "0.0"
                ],
                [
                  "24",
                  "2023",
                  "Bioenergy & waste",
                  "Coke manufacture",
                  "Demand",
                  "Energy industry use",
                  null,
                  "ktoe",
                  "0.0"
                ],
                [
                  "25",
                  "2023",
                  "Bioenergy & waste",
                  "Blast furnaces",
                  "Demand",
                  "Energy industry use",
                  null,
                  "ktoe",
                  "0.0"
                ],
                [
                  "26",
                  "2023",
                  "Bioenergy & waste",
                  "Patent fuel manufacture",
                  "Demand",
                  "Energy industry use",
                  null,
                  "ktoe",
                  "0.0"
                ],
                [
                  "27",
                  "2023",
                  "Bioenergy & waste",
                  "Pumped storage",
                  "Demand",
                  "Energy industry use",
                  null,
                  "ktoe",
                  "0.0"
                ],
                [
                  "28",
                  "2023",
                  "Bioenergy & waste",
                  "Other",
                  "Demand",
                  "Energy industry use",
                  null,
                  "ktoe",
                  "0.0"
                ],
                [
                  "29",
                  "2023",
                  "Bioenergy & waste",
                  "Losses",
                  "Demand",
                  null,
                  null,
                  "ktoe",
                  "0.0"
                ],
                [
                  "32",
                  "2023",
                  "Bioenergy & waste",
                  "Unclassified",
                  "Demand",
                  "Final consumption",
                  "Industry",
                  "ktoe",
                  "527.81"
                ],
                [
                  "33",
                  "2023",
                  "Bioenergy & waste",
                  "Iron and steel",
                  "Demand",
                  "Final consumption",
                  "Industry",
                  "ktoe",
                  "0.02"
                ],
                [
                  "34",
                  "2023",
                  "Bioenergy & waste",
                  "Non-ferrous metals",
                  "Demand",
                  "Final consumption",
                  "Industry",
                  "ktoe",
                  "0.0"
                ],
                [
                  "35",
                  "2023",
                  "Bioenergy & waste",
                  "Mineral products",
                  "Demand",
                  "Final consumption",
                  "Industry",
                  "ktoe",
                  "347.06"
                ],
                [
                  "36",
                  "2023",
                  "Bioenergy & waste",
                  "Chemicals",
                  "Demand",
                  "Final consumption",
                  "Industry",
                  "ktoe",
                  "96.05"
                ],
                [
                  "37",
                  "2023",
                  "Bioenergy & waste",
                  "Mechanical engineering etc",
                  "Demand",
                  "Final consumption",
                  "Industry",
                  "ktoe",
                  "0.02"
                ],
                [
                  "38",
                  "2023",
                  "Bioenergy & waste",
                  "Electrical engineering etc",
                  "Demand",
                  "Final consumption",
                  "Industry",
                  "ktoe",
                  "0.0"
                ],
                [
                  "39",
                  "2023",
                  "Bioenergy & waste",
                  "Vehicles",
                  "Demand",
                  "Final consumption",
                  "Industry",
                  "ktoe",
                  "12.14"
                ],
                [
                  "40",
                  "2023",
                  "Bioenergy & waste",
                  "Food, beverages etc",
                  "Demand",
                  "Final consumption",
                  "Industry",
                  "ktoe",
                  "84.16"
                ],
                [
                  "41",
                  "2023",
                  "Bioenergy & waste",
                  "Textiles, leather etc",
                  "Demand",
                  "Final consumption",
                  "Industry",
                  "ktoe",
                  "0.0"
                ],
                [
                  "42",
                  "2023",
                  "Bioenergy & waste",
                  "Paper, printing etc",
                  "Demand",
                  "Final consumption",
                  "Industry",
                  "ktoe",
                  "397.59"
                ],
                [
                  "43",
                  "2023",
                  "Bioenergy & waste",
                  "Other industries",
                  "Demand",
                  "Final consumption",
                  "Industry",
                  "ktoe",
                  "280.56"
                ],
                [
                  "44",
                  "2023",
                  "Bioenergy & waste",
                  "Construction",
                  "Demand",
                  "Final consumption",
                  "Industry",
                  "ktoe",
                  "0.0"
                ],
                [
                  "46",
                  "2023",
                  "Bioenergy & waste",
                  "Air",
                  "Demand",
                  "Final consumption",
                  "Transport",
                  "ktoe",
                  "121.76"
                ],
                [
                  "47",
                  "2023",
                  "Bioenergy & waste",
                  "Rail",
                  "Demand",
                  "Final consumption",
                  "Transport",
                  "ktoe",
                  "0.0"
                ],
                [
                  "48",
                  "2023",
                  "Bioenergy & waste",
                  "Road",
                  "Demand",
                  "Final consumption",
                  "Transport",
                  "ktoe",
                  "2575.65"
                ],
                [
                  "49",
                  "2023",
                  "Bioenergy & waste",
                  "National navigation",
                  "Demand",
                  "Final consumption",
                  "Transport",
                  "ktoe",
                  "0.0"
                ],
                [
                  "50",
                  "2023",
                  "Bioenergy & waste",
                  "Pipelines",
                  "Demand",
                  "Final consumption",
                  "Transport",
                  "ktoe",
                  "0.0"
                ],
                [
                  "52",
                  "2023",
                  "Bioenergy & waste",
                  "Domestic",
                  "Demand",
                  "Final consumption",
                  "Other final users",
                  "ktoe",
                  "1299.73"
                ],
                [
                  "53",
                  "2023",
                  "Bioenergy & waste",
                  "Public administration",
                  "Demand",
                  "Final consumption",
                  "Other final users",
                  "ktoe",
                  "55.64"
                ],
                [
                  "54",
                  "2023",
                  "Bioenergy & waste",
                  "Commercial",
                  "Demand",
                  "Final consumption",
                  "Other final users",
                  "ktoe",
                  "1231.04"
                ],
                [
                  "55",
                  "2023",
                  "Bioenergy & waste",
                  "Agriculture",
                  "Demand",
                  "Final consumption",
                  "Other final users",
                  "ktoe",
                  "162.22"
                ],
                [
                  "56",
                  "2023",
                  "Bioenergy & waste",
                  "Miscellaneous",
                  "Demand",
                  "Final consumption",
                  "Other final users",
                  "ktoe",
                  "4.85"
                ],
                [
                  "57",
                  "2023",
                  "Bioenergy & waste",
                  "Non energy use",
                  "Demand",
                  "Final consumption",
                  null,
                  "ktoe",
                  "0.0"
                ],
                [
                  "58",
                  "2023",
                  "Coal",
                  "Production",
                  "Supply",
                  null,
                  null,
                  "ktoe",
                  "357.89"
                ]
              ],
              "shape": {
                "columns": 8,
                "rows": 11417
              }
            },
            "text/html": [
              "<div>\n",
              "<style scoped>\n",
              "    .dataframe tbody tr th:only-of-type {\n",
              "        vertical-align: middle;\n",
              "    }\n",
              "\n",
              "    .dataframe tbody tr th {\n",
              "        vertical-align: top;\n",
              "    }\n",
              "\n",
              "    .dataframe thead th {\n",
              "        text-align: right;\n",
              "    }\n",
              "</style>\n",
              "<table border=\"1\" class=\"dataframe\">\n",
              "  <thead>\n",
              "    <tr style=\"text-align: right;\">\n",
              "      <th></th>\n",
              "      <th>Year</th>\n",
              "      <th>Fuel</th>\n",
              "      <th>Flow_type</th>\n",
              "      <th>Primary_group</th>\n",
              "      <th>Subgroup</th>\n",
              "      <th>Category</th>\n",
              "      <th>Unit</th>\n",
              "      <th>Energy</th>\n",
              "    </tr>\n",
              "  </thead>\n",
              "  <tbody>\n",
              "    <tr>\n",
              "      <th>0</th>\n",
              "      <td>2023</td>\n",
              "      <td>Bioenergy &amp; waste</td>\n",
              "      <td>Production</td>\n",
              "      <td>Supply</td>\n",
              "      <td>NaN</td>\n",
              "      <td>NaN</td>\n",
              "      <td>ktoe</td>\n",
              "      <td>13730.03</td>\n",
              "    </tr>\n",
              "    <tr>\n",
              "      <th>1</th>\n",
              "      <td>2023</td>\n",
              "      <td>Bioenergy &amp; waste</td>\n",
              "      <td>Imports</td>\n",
              "      <td>Supply</td>\n",
              "      <td>NaN</td>\n",
              "      <td>NaN</td>\n",
              "      <td>ktoe</td>\n",
              "      <td>5327.35</td>\n",
              "    </tr>\n",
              "    <tr>\n",
              "      <th>2</th>\n",
              "      <td>2023</td>\n",
              "      <td>Bioenergy &amp; waste</td>\n",
              "      <td>Exports</td>\n",
              "      <td>Supply</td>\n",
              "      <td>NaN</td>\n",
              "      <td>NaN</td>\n",
              "      <td>ktoe</td>\n",
              "      <td>-640.61</td>\n",
              "    </tr>\n",
              "    <tr>\n",
              "      <th>3</th>\n",
              "      <td>2023</td>\n",
              "      <td>Bioenergy &amp; waste</td>\n",
              "      <td>Marine bunkers</td>\n",
              "      <td>Supply</td>\n",
              "      <td>NaN</td>\n",
              "      <td>NaN</td>\n",
              "      <td>ktoe</td>\n",
              "      <td>0.00</td>\n",
              "    </tr>\n",
              "    <tr>\n",
              "      <th>4</th>\n",
              "      <td>2023</td>\n",
              "      <td>Bioenergy &amp; waste</td>\n",
              "      <td>Stock change</td>\n",
              "      <td>Supply</td>\n",
              "      <td>NaN</td>\n",
              "      <td>NaN</td>\n",
              "      <td>ktoe</td>\n",
              "      <td>-10.96</td>\n",
              "    </tr>\n",
              "    <tr>\n",
              "      <th>...</th>\n",
              "      <td>...</td>\n",
              "      <td>...</td>\n",
              "      <td>...</td>\n",
              "      <td>...</td>\n",
              "      <td>...</td>\n",
              "      <td>...</td>\n",
              "      <td>...</td>\n",
              "      <td>...</td>\n",
              "    </tr>\n",
              "    <tr>\n",
              "      <th>14959</th>\n",
              "      <td>1998</td>\n",
              "      <td>Primary oils</td>\n",
              "      <td>Public administration</td>\n",
              "      <td>Demand</td>\n",
              "      <td>Final consumption</td>\n",
              "      <td>Other final users</td>\n",
              "      <td>ktoe</td>\n",
              "      <td>0.00</td>\n",
              "    </tr>\n",
              "    <tr>\n",
              "      <th>14960</th>\n",
              "      <td>1998</td>\n",
              "      <td>Primary oils</td>\n",
              "      <td>Commercial</td>\n",
              "      <td>Demand</td>\n",
              "      <td>Final consumption</td>\n",
              "      <td>Other final users</td>\n",
              "      <td>ktoe</td>\n",
              "      <td>0.00</td>\n",
              "    </tr>\n",
              "    <tr>\n",
              "      <th>14961</th>\n",
              "      <td>1998</td>\n",
              "      <td>Primary oils</td>\n",
              "      <td>Agriculture</td>\n",
              "      <td>Demand</td>\n",
              "      <td>Final consumption</td>\n",
              "      <td>Other final users</td>\n",
              "      <td>ktoe</td>\n",
              "      <td>0.00</td>\n",
              "    </tr>\n",
              "    <tr>\n",
              "      <th>14962</th>\n",
              "      <td>1998</td>\n",
              "      <td>Primary oils</td>\n",
              "      <td>Miscellaneous</td>\n",
              "      <td>Demand</td>\n",
              "      <td>Final consumption</td>\n",
              "      <td>Other final users</td>\n",
              "      <td>ktoe</td>\n",
              "      <td>0.00</td>\n",
              "    </tr>\n",
              "    <tr>\n",
              "      <th>14963</th>\n",
              "      <td>1998</td>\n",
              "      <td>Primary oils</td>\n",
              "      <td>Non energy use</td>\n",
              "      <td>Demand</td>\n",
              "      <td>Final consumption</td>\n",
              "      <td>NaN</td>\n",
              "      <td>ktoe</td>\n",
              "      <td>0.00</td>\n",
              "    </tr>\n",
              "  </tbody>\n",
              "</table>\n",
              "<p>11417 rows × 8 columns</p>\n",
              "</div>"
            ],
            "text/plain": [
              "       Year               Fuel              Flow_type Primary_group  \\\n",
              "0      2023  Bioenergy & waste             Production        Supply   \n",
              "1      2023  Bioenergy & waste                Imports        Supply   \n",
              "2      2023  Bioenergy & waste                Exports        Supply   \n",
              "3      2023  Bioenergy & waste         Marine bunkers        Supply   \n",
              "4      2023  Bioenergy & waste           Stock change        Supply   \n",
              "...     ...                ...                    ...           ...   \n",
              "14959  1998       Primary oils  Public administration        Demand   \n",
              "14960  1998       Primary oils             Commercial        Demand   \n",
              "14961  1998       Primary oils            Agriculture        Demand   \n",
              "14962  1998       Primary oils          Miscellaneous        Demand   \n",
              "14963  1998       Primary oils         Non energy use        Demand   \n",
              "\n",
              "                Subgroup           Category  Unit    Energy  \n",
              "0                    NaN                NaN  ktoe  13730.03  \n",
              "1                    NaN                NaN  ktoe   5327.35  \n",
              "2                    NaN                NaN  ktoe   -640.61  \n",
              "3                    NaN                NaN  ktoe      0.00  \n",
              "4                    NaN                NaN  ktoe    -10.96  \n",
              "...                  ...                ...   ...       ...  \n",
              "14959  Final consumption  Other final users  ktoe      0.00  \n",
              "14960  Final consumption  Other final users  ktoe      0.00  \n",
              "14961  Final consumption  Other final users  ktoe      0.00  \n",
              "14962  Final consumption  Other final users  ktoe      0.00  \n",
              "14963  Final consumption                NaN  ktoe      0.00  \n",
              "\n",
              "[11417 rows x 8 columns]"
            ]
          },
          "execution_count": 15,
          "metadata": {},
          "output_type": "execute_result"
        }
      ],
      "source": [
        "df"
      ]
    },
    {
      "cell_type": "markdown",
      "metadata": {
        "id": "ZY3l0-AxO93d"
      },
      "source": [
        "---"
      ]
    },
    {
      "cell_type": "markdown",
      "metadata": {
        "id": "uFQo3ycuO-v6"
      },
      "source": [
        "# Dukes 6.1"
      ]
    },
    {
      "cell_type": "markdown",
      "metadata": {},
      "source": [
        "We will be doing the same processes for the second dataset we are using for our analysis"
      ]
    },
    {
      "cell_type": "code",
      "execution_count": 16,
      "metadata": {},
      "outputs": [
        {
          "data": {
            "application/vnd.microsoft.datawrangler.viewer.v0+json": {
              "columns": [
                {
                  "name": "index",
                  "rawType": "int64",
                  "type": "integer"
                },
                {
                  "name": "Year",
                  "rawType": "int64",
                  "type": "integer"
                },
                {
                  "name": "Fuel",
                  "rawType": "object",
                  "type": "string"
                },
                {
                  "name": "Flow_type",
                  "rawType": "object",
                  "type": "string"
                },
                {
                  "name": "Primary_group",
                  "rawType": "object",
                  "type": "string"
                },
                {
                  "name": "Subgroup",
                  "rawType": "object",
                  "type": "unknown"
                },
                {
                  "name": "Category",
                  "rawType": "object",
                  "type": "unknown"
                },
                {
                  "name": "Aggregate_type",
                  "rawType": "object",
                  "type": "string"
                },
                {
                  "name": "Unit",
                  "rawType": "object",
                  "type": "string"
                },
                {
                  "name": "Energy",
                  "rawType": "object",
                  "type": "string"
                },
                {
                  "name": "Row",
                  "rawType": "int64",
                  "type": "integer"
                }
              ],
              "conversionMethod": "pd.DataFrame",
              "ref": "02bcea85-2499-4e27-a087-51e4a3095077",
              "rows": [
                [
                  "0",
                  "2023",
                  "Anaerobic digestion",
                  "Production",
                  "Supply",
                  null,
                  null,
                  "value",
                  "ktoe",
                  "1578.09",
                  "6"
                ],
                [
                  "1",
                  "2023",
                  "Anaerobic digestion",
                  "Other sources",
                  "Supply",
                  null,
                  null,
                  "value",
                  "ktoe",
                  "0.0",
                  "7"
                ],
                [
                  "2",
                  "2023",
                  "Anaerobic digestion",
                  "Imports",
                  "Supply",
                  null,
                  null,
                  "value",
                  "ktoe",
                  "0.0",
                  "8"
                ],
                [
                  "3",
                  "2023",
                  "Anaerobic digestion",
                  "Exports",
                  "Supply",
                  null,
                  null,
                  "value",
                  "ktoe",
                  "0.0",
                  "9"
                ],
                [
                  "4",
                  "2023",
                  "Anaerobic digestion",
                  "Marine bunkers",
                  "Supply",
                  null,
                  null,
                  "value",
                  "ktoe",
                  "0.0",
                  "10"
                ]
              ],
              "shape": {
                "columns": 10,
                "rows": 5
              }
            },
            "text/html": [
              "<div>\n",
              "<style scoped>\n",
              "    .dataframe tbody tr th:only-of-type {\n",
              "        vertical-align: middle;\n",
              "    }\n",
              "\n",
              "    .dataframe tbody tr th {\n",
              "        vertical-align: top;\n",
              "    }\n",
              "\n",
              "    .dataframe thead th {\n",
              "        text-align: right;\n",
              "    }\n",
              "</style>\n",
              "<table border=\"1\" class=\"dataframe\">\n",
              "  <thead>\n",
              "    <tr style=\"text-align: right;\">\n",
              "      <th></th>\n",
              "      <th>Year</th>\n",
              "      <th>Fuel</th>\n",
              "      <th>Flow_type</th>\n",
              "      <th>Primary_group</th>\n",
              "      <th>Subgroup</th>\n",
              "      <th>Category</th>\n",
              "      <th>Aggregate_type</th>\n",
              "      <th>Unit</th>\n",
              "      <th>Energy</th>\n",
              "      <th>Row</th>\n",
              "    </tr>\n",
              "  </thead>\n",
              "  <tbody>\n",
              "    <tr>\n",
              "      <th>0</th>\n",
              "      <td>2023</td>\n",
              "      <td>Anaerobic digestion</td>\n",
              "      <td>Production</td>\n",
              "      <td>Supply</td>\n",
              "      <td>NaN</td>\n",
              "      <td>NaN</td>\n",
              "      <td>value</td>\n",
              "      <td>ktoe</td>\n",
              "      <td>1578.09</td>\n",
              "      <td>6</td>\n",
              "    </tr>\n",
              "    <tr>\n",
              "      <th>1</th>\n",
              "      <td>2023</td>\n",
              "      <td>Anaerobic digestion</td>\n",
              "      <td>Other sources</td>\n",
              "      <td>Supply</td>\n",
              "      <td>NaN</td>\n",
              "      <td>NaN</td>\n",
              "      <td>value</td>\n",
              "      <td>ktoe</td>\n",
              "      <td>0.0</td>\n",
              "      <td>7</td>\n",
              "    </tr>\n",
              "    <tr>\n",
              "      <th>2</th>\n",
              "      <td>2023</td>\n",
              "      <td>Anaerobic digestion</td>\n",
              "      <td>Imports</td>\n",
              "      <td>Supply</td>\n",
              "      <td>NaN</td>\n",
              "      <td>NaN</td>\n",
              "      <td>value</td>\n",
              "      <td>ktoe</td>\n",
              "      <td>0.0</td>\n",
              "      <td>8</td>\n",
              "    </tr>\n",
              "    <tr>\n",
              "      <th>3</th>\n",
              "      <td>2023</td>\n",
              "      <td>Anaerobic digestion</td>\n",
              "      <td>Exports</td>\n",
              "      <td>Supply</td>\n",
              "      <td>NaN</td>\n",
              "      <td>NaN</td>\n",
              "      <td>value</td>\n",
              "      <td>ktoe</td>\n",
              "      <td>0.0</td>\n",
              "      <td>9</td>\n",
              "    </tr>\n",
              "    <tr>\n",
              "      <th>4</th>\n",
              "      <td>2023</td>\n",
              "      <td>Anaerobic digestion</td>\n",
              "      <td>Marine bunkers</td>\n",
              "      <td>Supply</td>\n",
              "      <td>NaN</td>\n",
              "      <td>NaN</td>\n",
              "      <td>value</td>\n",
              "      <td>ktoe</td>\n",
              "      <td>0.0</td>\n",
              "      <td>10</td>\n",
              "    </tr>\n",
              "  </tbody>\n",
              "</table>\n",
              "</div>"
            ],
            "text/plain": [
              "   Year                 Fuel       Flow_type Primary_group Subgroup Category  \\\n",
              "0  2023  Anaerobic digestion      Production        Supply      NaN      NaN   \n",
              "1  2023  Anaerobic digestion   Other sources        Supply      NaN      NaN   \n",
              "2  2023  Anaerobic digestion         Imports        Supply      NaN      NaN   \n",
              "3  2023  Anaerobic digestion         Exports        Supply      NaN      NaN   \n",
              "4  2023  Anaerobic digestion  Marine bunkers        Supply      NaN      NaN   \n",
              "\n",
              "  Aggregate_type  Unit   Energy  Row  \n",
              "0          value  ktoe  1578.09    6  \n",
              "1          value  ktoe      0.0    7  \n",
              "2          value  ktoe      0.0    8  \n",
              "3          value  ktoe      0.0    9  \n",
              "4          value  ktoe      0.0   10  "
            ]
          },
          "execution_count": 16,
          "metadata": {},
          "output_type": "execute_result"
        }
      ],
      "source": [
        "# import dukes 6.1 data\n",
        "df_61 = pd.read_csv(\"Raw_Data/DUKES 6.1 flat.csv\")\n",
        "df_61.head(5)"
      ]
    },
    {
      "cell_type": "code",
      "execution_count": 17,
      "metadata": {},
      "outputs": [
        {
          "name": "stdout",
          "output_type": "stream",
          "text": [
            "<class 'pandas.core.frame.DataFrame'>\n",
            "RangeIndex: 21653 entries, 0 to 21652\n",
            "Data columns (total 10 columns):\n",
            " #   Column          Non-Null Count  Dtype \n",
            "---  ------          --------------  ----- \n",
            " 0   Year            21653 non-null  int64 \n",
            " 1   Fuel            21653 non-null  object\n",
            " 2   Flow_type       21653 non-null  object\n",
            " 3   Primary_group   21653 non-null  object\n",
            " 4   Subgroup        17616 non-null  object\n",
            " 5   Category        9542 non-null   object\n",
            " 6   Aggregate_type  21653 non-null  object\n",
            " 7   Unit            21653 non-null  object\n",
            " 8   Energy          21653 non-null  object\n",
            " 9   Row             21653 non-null  int64 \n",
            "dtypes: int64(2), object(8)\n",
            "memory usage: 1.7+ MB\n"
          ]
        }
      ],
      "source": [
        "df_61.info()"
      ]
    },
    {
      "cell_type": "markdown",
      "metadata": {},
      "source": [
        "The Energy column is showing as Object type. Lets see why"
      ]
    },
    {
      "cell_type": "code",
      "execution_count": 18,
      "metadata": {},
      "outputs": [
        {
          "name": "stdout",
          "output_type": "stream",
          "text": [
            "       Year                 Fuel        Flow_type Primary_group  \\\n",
            "7965   2014  Anaerobic digestion       Production        Supply   \n",
            "7966   2014  Anaerobic digestion    Other sources        Supply   \n",
            "7967   2014  Anaerobic digestion          Imports        Supply   \n",
            "7968   2014  Anaerobic digestion          Exports        Supply   \n",
            "7969   2014  Anaerobic digestion   Marine bunkers        Supply   \n",
            "...     ...                  ...              ...           ...   \n",
            "21372  1998        Solid biomass  Heat generation        Demand   \n",
            "21431  1998     Total renewables  Heat generation        Demand   \n",
            "21490  1998           Waste wood  Heat generation        Demand   \n",
            "21549  1998      Wind and marine  Heat generation        Demand   \n",
            "21608  1998                 Wood  Heat generation        Demand   \n",
            "\n",
            "             Subgroup Category Aggregate_type  Unit Energy  Row  \\\n",
            "7965              NaN      NaN          value  ktoe    [z]    6   \n",
            "7966              NaN      NaN          value  ktoe    [z]    7   \n",
            "7967              NaN      NaN          value  ktoe    [z]    8   \n",
            "7968              NaN      NaN          value  ktoe    [z]    9   \n",
            "7969              NaN      NaN          value  ktoe    [z]   10   \n",
            "...               ...      ...            ...   ...    ...  ...   \n",
            "21372  Transformation      NaN          value  ktoe    [x]   20   \n",
            "21431  Transformation      NaN          value  ktoe    [x]   20   \n",
            "21490  Transformation      NaN          value  ktoe    [x]   20   \n",
            "21549  Transformation      NaN          value  ktoe    [x]   20   \n",
            "21608  Transformation      NaN          value  ktoe    [x]   20   \n",
            "\n",
            "       Energy_numeric  \n",
            "7965              NaN  \n",
            "7966              NaN  \n",
            "7967              NaN  \n",
            "7968              NaN  \n",
            "7969              NaN  \n",
            "...               ...  \n",
            "21372             NaN  \n",
            "21431             NaN  \n",
            "21490             NaN  \n",
            "21549             NaN  \n",
            "21608             NaN  \n",
            "\n",
            "[1037 rows x 11 columns]\n"
          ]
        }
      ],
      "source": [
        "# Convert 'Energy' to numeric, forcing non-numeric values to NaN\n",
        "df_61['Energy_numeric'] = pd.to_numeric(df_61['Energy'], errors='coerce')\n",
        "\n",
        "# Find rows where conversion failed (non-numeric values)\n",
        "non_numeric_rows = df_61[df_61['Energy_numeric'].isna()]\n",
        "print(non_numeric_rows)"
      ]
    },
    {
      "cell_type": "markdown",
      "metadata": {},
      "source": [
        "It looks like we have data missing for some of the earlier years"
      ]
    },
    {
      "cell_type": "code",
      "execution_count": 19,
      "metadata": {},
      "outputs": [
        {
          "name": "stdout",
          "output_type": "stream",
          "text": [
            "<class 'pandas.core.frame.DataFrame'>\n",
            "RangeIndex: 20616 entries, 0 to 20615\n",
            "Data columns (total 11 columns):\n",
            " #   Column          Non-Null Count  Dtype  \n",
            "---  ------          --------------  -----  \n",
            " 0   Year            20616 non-null  int64  \n",
            " 1   Fuel            20616 non-null  object \n",
            " 2   Flow_type       20616 non-null  object \n",
            " 3   Primary_group   20616 non-null  object \n",
            " 4   Subgroup        16766 non-null  object \n",
            " 5   Category        9077 non-null   object \n",
            " 6   Aggregate_type  20616 non-null  object \n",
            " 7   Unit            20616 non-null  object \n",
            " 8   Energy          20616 non-null  float64\n",
            " 9   Row             20616 non-null  int64  \n",
            " 10  Energy_numeric  20616 non-null  float64\n",
            "dtypes: float64(2), int64(2), object(7)\n",
            "memory usage: 1.7+ MB\n",
            "None\n"
          ]
        }
      ],
      "source": [
        "# Convert 'Energy' to numeric, forcing non-numeric values to NaN\n",
        "df_61['Energy'] = pd.to_numeric(df_61['Energy'], errors='coerce')\n",
        "\n",
        "# Drop rows where 'Energy' is NaN (non-numeric values)\n",
        "df_61 = df_61.dropna(subset=['Energy'])\n",
        "\n",
        "# Reset the index after dropping rows\n",
        "df_61 = df_61.reset_index(drop=True)\n",
        "\n",
        "# Check the updated DataFrame\n",
        "print(df_61.info())"
      ]
    },
    {
      "cell_type": "code",
      "execution_count": 20,
      "metadata": {},
      "outputs": [
        {
          "name": "stdout",
          "output_type": "stream",
          "text": [
            "Unique entries in 'Year': [2023 2022 2021 2020 2019 2018 2017 2016 2015 2014 2013 2012 2011 2010\n",
            " 2009 2008 2007 2006 2005 2004 2003 2002 2001 2000 1999 1998]\n",
            "Unique entries in 'Fuel': ['Anaerobic digestion' 'Animal biomass' 'Heat pumps' 'Hydro'\n",
            " 'Landfill gas' 'Liquid biofuels' 'Non-renewable waste' 'Plant biomass'\n",
            " 'Renewable waste' 'Sewage gas' 'Solar PV, solar thermal, geothermal'\n",
            " 'Total renewables' 'Waste wood' 'Wind and marine' 'Wood' 'Solid biomass']\n",
            "Unique entries in 'Flow_type': ['Production' 'Other sources' 'Imports' 'Exports' 'Marine bunkers'\n",
            " 'Stock change' 'Transfers' 'Total supply' 'Statistical difference'\n",
            " 'Total demand' 'Transformation' 'Electricity generation'\n",
            " 'Major power producers' 'Autogenerators' 'Heat generation'\n",
            " 'Petroleum refineries' 'Coke manufacture' 'Blast furnaces'\n",
            " 'Patent fuel manufacture' 'Other' 'Energy industry use'\n",
            " 'Oil and gas extraction' 'Coal extraction' 'Pumped storage' 'Losses'\n",
            " 'Final consumption' 'Industry' 'Unclassified' 'Iron and steel'\n",
            " 'Non-ferrous metals' 'Mineral products' 'Chemicals'\n",
            " 'Mechanical engineering, etc' 'Electrical engineering, etc' 'Vehicles'\n",
            " 'Food, beverages, etc' 'Textiles, leather, etc' 'Paper, printing, etc'\n",
            " 'Other industries' 'Construction' 'Transport' 'Air' 'Rail' 'Road'\n",
            " 'National navigation' 'Pipelines' 'Domestic' 'Public administration'\n",
            " 'Commercial' 'Agriculture' 'Miscellaneous' 'Non energy use']\n",
            "Unique entries in 'Primary_group': ['Supply' 'Statistical difference' 'Demand']\n",
            "Unique entries in 'Subgroup': [nan 'Transformation' 'Energy industry use' 'Final consumption']\n",
            "Unique entries in 'Category': [nan 'Industry' 'Transport' 'Other final users']\n",
            "Unique entries in 'Aggregate_type': ['value' 'sum']\n",
            "Unique entries in 'Unit': ['ktoe']\n",
            "Unique entries in 'Energy': [1578.09    0.   -548.05 ...  436.9    75.4    75.  ]\n",
            "Unique entries in 'Row': [ 6  7  8  9 10 11 12 13 14 15 16 17 18 19 20 21 22 23 24 25 26 27 28 29\n",
            " 30 31 32 33 34 35 36 37 38 39 40 41 42 43 44 45 46 47 48 49 50 51 52 53\n",
            " 54 55 56 57 58 59 60 61 62 63 64]\n",
            "Unique entries in 'Energy_numeric': [1578.09    0.   -548.05 ...  436.9    75.4    75.  ]\n"
          ]
        }
      ],
      "source": [
        "for column in df_61.columns:\n",
        "    unique_values = df_61[column].unique()\n",
        "    print(f\"Unique entries in '{column}': {unique_values}\")"
      ]
    },
    {
      "cell_type": "markdown",
      "metadata": {},
      "source": [
        "Now, as in the previous dataset, we want to drop rows that have sum in them as they duplicate our values"
      ]
    },
    {
      "cell_type": "code",
      "execution_count": 21,
      "metadata": {},
      "outputs": [
        {
          "name": "stdout",
          "output_type": "stream",
          "text": [
            "['value']\n"
          ]
        }
      ],
      "source": [
        "df_61 = df_61[~df_61['Aggregate_type'].str.contains('sum', case=False, na=False)]\n",
        "print(df_61['Aggregate_type'].unique())"
      ]
    },
    {
      "cell_type": "code",
      "execution_count": 22,
      "metadata": {},
      "outputs": [
        {
          "name": "stdout",
          "output_type": "stream",
          "text": [
            "['Anaerobic digestion' 'Animal biomass' 'Heat pumps' 'Hydro'\n",
            " 'Landfill gas' 'Liquid biofuels' 'Non-renewable waste' 'Plant biomass'\n",
            " 'Renewable waste' 'Sewage gas' 'Solar PV, solar thermal, geothermal'\n",
            " 'Waste wood' 'Wind and marine' 'Wood' 'Solid biomass']\n"
          ]
        }
      ],
      "source": [
        "df_61 = df_61[df_61['Fuel'] != 'Total renewables']\n",
        "print(df_61['Fuel'].unique())"
      ]
    },
    {
      "cell_type": "code",
      "execution_count": 23,
      "metadata": {},
      "outputs": [
        {
          "name": "stdout",
          "output_type": "stream",
          "text": [
            "['Production' 'Other sources' 'Imports' 'Exports' 'Marine bunkers'\n",
            " 'Stock change' 'Transfers' 'Statistical difference'\n",
            " 'Major power producers' 'Autogenerators' 'Heat generation'\n",
            " 'Petroleum refineries' 'Coke manufacture' 'Blast furnaces'\n",
            " 'Patent fuel manufacture' 'Other' 'Electricity generation'\n",
            " 'Oil and gas extraction' 'Coal extraction' 'Pumped storage' 'Losses'\n",
            " 'Unclassified' 'Iron and steel' 'Non-ferrous metals' 'Mineral products'\n",
            " 'Chemicals' 'Mechanical engineering, etc' 'Electrical engineering, etc'\n",
            " 'Vehicles' 'Food, beverages, etc' 'Textiles, leather, etc'\n",
            " 'Paper, printing, etc' 'Other industries' 'Construction' 'Air' 'Rail'\n",
            " 'Road' 'National navigation' 'Pipelines' 'Domestic'\n",
            " 'Public administration' 'Commercial' 'Agriculture' 'Miscellaneous'\n",
            " 'Non energy use']\n"
          ]
        }
      ],
      "source": [
        "print(df_61['Flow_type'].unique())"
      ]
    },
    {
      "cell_type": "code",
      "execution_count": 24,
      "metadata": {},
      "outputs": [
        {
          "data": {
            "text/plain": [
              "Index(['Year', 'Fuel', 'Flow_type', 'Primary_group', 'Subgroup', 'Category',\n",
              "       'Unit', 'Energy', 'Energy_numeric'],\n",
              "      dtype='object')"
            ]
          },
          "execution_count": 24,
          "metadata": {},
          "output_type": "execute_result"
        }
      ],
      "source": [
        "df_61 = df_61.drop(columns=['Aggregate_type', 'Row'])\n",
        "df_61.columns"
      ]
    },
    {
      "cell_type": "markdown",
      "metadata": {},
      "source": [
        "---"
      ]
    },
    {
      "cell_type": "markdown",
      "metadata": {},
      "source": [
        "We will add one more column to each dataset. This energy in TWh which more familiar for the general public"
      ]
    },
    {
      "cell_type": "code",
      "execution_count": 25,
      "metadata": {},
      "outputs": [],
      "source": [
        "df['Energy_TWh'] = df['Energy'] * 0.01163\n",
        "df_61['Energy_TWh'] = df_61['Energy'] * 0.01163"
      ]
    },
    {
      "cell_type": "code",
      "execution_count": 26,
      "metadata": {},
      "outputs": [
        {
          "name": "stdout",
          "output_type": "stream",
          "text": [
            "   Year               Fuel       Flow_type Primary_group Subgroup Category  \\\n",
            "0  2023  Bioenergy & waste      Production        Supply      NaN      NaN   \n",
            "1  2023  Bioenergy & waste         Imports        Supply      NaN      NaN   \n",
            "2  2023  Bioenergy & waste         Exports        Supply      NaN      NaN   \n",
            "3  2023  Bioenergy & waste  Marine bunkers        Supply      NaN      NaN   \n",
            "4  2023  Bioenergy & waste    Stock change        Supply      NaN      NaN   \n",
            "\n",
            "   Unit    Energy  Energy_TWh  \n",
            "0  ktoe  13730.03  159.680249  \n",
            "1  ktoe   5327.35   61.957081  \n",
            "2  ktoe   -640.61   -7.450294  \n",
            "3  ktoe      0.00    0.000000  \n",
            "4  ktoe    -10.96   -0.127465  \n",
            "   Year                 Fuel       Flow_type Primary_group Subgroup Category  \\\n",
            "0  2023  Anaerobic digestion      Production        Supply      NaN      NaN   \n",
            "1  2023  Anaerobic digestion   Other sources        Supply      NaN      NaN   \n",
            "2  2023  Anaerobic digestion         Imports        Supply      NaN      NaN   \n",
            "3  2023  Anaerobic digestion         Exports        Supply      NaN      NaN   \n",
            "4  2023  Anaerobic digestion  Marine bunkers        Supply      NaN      NaN   \n",
            "\n",
            "   Unit   Energy  Energy_numeric  Energy_TWh  \n",
            "0  ktoe  1578.09         1578.09   18.353187  \n",
            "1  ktoe     0.00            0.00    0.000000  \n",
            "2  ktoe     0.00            0.00    0.000000  \n",
            "3  ktoe     0.00            0.00    0.000000  \n",
            "4  ktoe     0.00            0.00    0.000000  \n"
          ]
        }
      ],
      "source": [
        "print(df.head(5))\n",
        "print(df_61.head(5))"
      ]
    },
    {
      "cell_type": "markdown",
      "metadata": {},
      "source": [
        "### Export"
      ]
    },
    {
      "cell_type": "markdown",
      "metadata": {},
      "source": [
        "Both datasets are cleaned now. Lets reset the index and then export them for further analysis"
      ]
    },
    {
      "cell_type": "code",
      "execution_count": 27,
      "metadata": {},
      "outputs": [],
      "source": [
        "df = df.reset_index(drop=True)\n",
        "df_61 = df_61.reset_index(drop=True)"
      ]
    },
    {
      "cell_type": "code",
      "execution_count": 28,
      "metadata": {},
      "outputs": [],
      "source": [
        "df.to_csv(\"Exported_Data/df1_cleaned.csv\", index=False)\n",
        "df_61.to_csv(\"Exported_Data/df6_cleaned.csv\", index=False)"
      ]
    },
    {
      "cell_type": "markdown",
      "metadata": {},
      "source": [
        "---"
      ]
    }
  ],
  "metadata": {
    "accelerator": "GPU",
    "colab": {
      "name": "Data Practitioner Jupyter Notebook.ipynb",
      "provenance": [],
      "toc_visible": true
    },
    "kernelspec": {
      "display_name": ".venv",
      "language": "python",
      "name": "python3"
    },
    "language_info": {
      "codemirror_mode": {
        "name": "ipython",
        "version": 3
      },
      "file_extension": ".py",
      "mimetype": "text/x-python",
      "name": "python",
      "nbconvert_exporter": "python",
      "pygments_lexer": "ipython3",
      "version": "3.12.8"
    },
    "orig_nbformat": 2
  },
  "nbformat": 4,
  "nbformat_minor": 2
}
